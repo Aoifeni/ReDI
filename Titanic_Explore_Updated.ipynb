{
 "cells": [
  {
   "cell_type": "markdown",
   "id": "246c3d4e",
   "metadata": {},
   "source": [
    "# Titanic ML project: \n",
    "\n",
    "1. Explore the data and get some general statistics, and visualise them. [Skip to Exploratory analysis](#Exploratory-Analysis)\n",
    "2. Hypothesise about the data, verify correlations & find factors to build a model on. [Skip to Correlation verification](#Verify-the-correlation-with-Categorical-variables)\n",
    "3. Work out a classification baseline for the models. [Skip to baseline determination](#Baseline-Accuracy-for-a-Classification-Model)\n",
    "4. Visualise the success rate of the model iterations against the baselines. [Skip to Graphing model scores](#Graphing-out-iteration-scores)"
   ]
  },
  {
   "cell_type": "markdown",
   "id": "537dd232",
   "metadata": {},
   "source": [
    "## Exploratory Analysis\n",
    "\n",
    "Some rough thoughts to answer: \n",
    " 1. What is the likelihood of survival in % in general. \n",
    " 2. Sex as correlated with survival.\n",
    " 3. How does class correlate with survival chances.\n",
    " 4. Age as correlated to survival. (bucket age?)\n",
    " 5. Does where people embarked affect anything?  \n",
    "\n",
    " \n",
    "And once we determine what could be correlational: \n",
    "- Verify the Correlation with Categorical Variables\n",
    "- Exploratory Analysis Summary"
   ]
  },
  {
   "cell_type": "code",
   "execution_count": 21,
   "id": "49a62140-510a-44c6-959c-fb225779db77",
   "metadata": {
    "tags": []
   },
   "outputs": [],
   "source": [
    "#pip install tabulate"
   ]
  },
  {
   "cell_type": "code",
   "execution_count": 22,
   "id": "50c20bbd",
   "metadata": {
    "tags": []
   },
   "outputs": [],
   "source": [
    "import numpy as np \n",
    "import pandas as pd \n",
    "import seaborn as sns\n",
    "import scipy.stats as stats\n",
    "from matplotlib import pyplot as plt\n",
    "from tabulate import tabulate"
   ]
  },
  {
   "cell_type": "code",
   "execution_count": 23,
   "id": "25d6662d",
   "metadata": {
    "tags": []
   },
   "outputs": [],
   "source": [
    "#df = pd.read_csv('data_sets/train.csv')\n",
    "df = pd.read_csv('\\\\Users\\\\REDI.REDI-4042\\\\Downloads\\\\train.csv')"
   ]
  },
  {
   "cell_type": "code",
   "execution_count": 24,
   "id": "93cfa8ef",
   "metadata": {
    "scrolled": true,
    "tags": []
   },
   "outputs": [
    {
     "data": {
      "text/html": [
       "<div>\n",
       "<style scoped>\n",
       "    .dataframe tbody tr th:only-of-type {\n",
       "        vertical-align: middle;\n",
       "    }\n",
       "\n",
       "    .dataframe tbody tr th {\n",
       "        vertical-align: top;\n",
       "    }\n",
       "\n",
       "    .dataframe thead th {\n",
       "        text-align: right;\n",
       "    }\n",
       "</style>\n",
       "<table border=\"1\" class=\"dataframe\">\n",
       "  <thead>\n",
       "    <tr style=\"text-align: right;\">\n",
       "      <th></th>\n",
       "      <th>PassengerId</th>\n",
       "      <th>Survived</th>\n",
       "      <th>Pclass</th>\n",
       "      <th>Name</th>\n",
       "      <th>Sex</th>\n",
       "      <th>Age</th>\n",
       "      <th>SibSp</th>\n",
       "      <th>Parch</th>\n",
       "      <th>Ticket</th>\n",
       "      <th>Fare</th>\n",
       "      <th>Cabin</th>\n",
       "      <th>Embarked</th>\n",
       "    </tr>\n",
       "  </thead>\n",
       "  <tbody>\n",
       "    <tr>\n",
       "      <th>0</th>\n",
       "      <td>1</td>\n",
       "      <td>0</td>\n",
       "      <td>3</td>\n",
       "      <td>Braund, Mr. Owen Harris</td>\n",
       "      <td>male</td>\n",
       "      <td>22.0</td>\n",
       "      <td>1</td>\n",
       "      <td>0</td>\n",
       "      <td>A/5 21171</td>\n",
       "      <td>7.2500</td>\n",
       "      <td>NaN</td>\n",
       "      <td>S</td>\n",
       "    </tr>\n",
       "    <tr>\n",
       "      <th>1</th>\n",
       "      <td>2</td>\n",
       "      <td>1</td>\n",
       "      <td>1</td>\n",
       "      <td>Cumings, Mrs. John Bradley (Florence Briggs Th...</td>\n",
       "      <td>female</td>\n",
       "      <td>38.0</td>\n",
       "      <td>1</td>\n",
       "      <td>0</td>\n",
       "      <td>PC 17599</td>\n",
       "      <td>71.2833</td>\n",
       "      <td>C85</td>\n",
       "      <td>C</td>\n",
       "    </tr>\n",
       "    <tr>\n",
       "      <th>2</th>\n",
       "      <td>3</td>\n",
       "      <td>1</td>\n",
       "      <td>3</td>\n",
       "      <td>Heikkinen, Miss. Laina</td>\n",
       "      <td>female</td>\n",
       "      <td>26.0</td>\n",
       "      <td>0</td>\n",
       "      <td>0</td>\n",
       "      <td>STON/O2. 3101282</td>\n",
       "      <td>7.9250</td>\n",
       "      <td>NaN</td>\n",
       "      <td>S</td>\n",
       "    </tr>\n",
       "    <tr>\n",
       "      <th>3</th>\n",
       "      <td>4</td>\n",
       "      <td>1</td>\n",
       "      <td>1</td>\n",
       "      <td>Futrelle, Mrs. Jacques Heath (Lily May Peel)</td>\n",
       "      <td>female</td>\n",
       "      <td>35.0</td>\n",
       "      <td>1</td>\n",
       "      <td>0</td>\n",
       "      <td>113803</td>\n",
       "      <td>53.1000</td>\n",
       "      <td>C123</td>\n",
       "      <td>S</td>\n",
       "    </tr>\n",
       "    <tr>\n",
       "      <th>4</th>\n",
       "      <td>5</td>\n",
       "      <td>0</td>\n",
       "      <td>3</td>\n",
       "      <td>Allen, Mr. William Henry</td>\n",
       "      <td>male</td>\n",
       "      <td>35.0</td>\n",
       "      <td>0</td>\n",
       "      <td>0</td>\n",
       "      <td>373450</td>\n",
       "      <td>8.0500</td>\n",
       "      <td>NaN</td>\n",
       "      <td>S</td>\n",
       "    </tr>\n",
       "  </tbody>\n",
       "</table>\n",
       "</div>"
      ],
      "text/plain": [
       "   PassengerId  Survived  Pclass  \\\n",
       "0            1         0       3   \n",
       "1            2         1       1   \n",
       "2            3         1       3   \n",
       "3            4         1       1   \n",
       "4            5         0       3   \n",
       "\n",
       "                                                Name     Sex   Age  SibSp  \\\n",
       "0                            Braund, Mr. Owen Harris    male  22.0      1   \n",
       "1  Cumings, Mrs. John Bradley (Florence Briggs Th...  female  38.0      1   \n",
       "2                             Heikkinen, Miss. Laina  female  26.0      0   \n",
       "3       Futrelle, Mrs. Jacques Heath (Lily May Peel)  female  35.0      1   \n",
       "4                           Allen, Mr. William Henry    male  35.0      0   \n",
       "\n",
       "   Parch            Ticket     Fare Cabin Embarked  \n",
       "0      0         A/5 21171   7.2500   NaN        S  \n",
       "1      0          PC 17599  71.2833   C85        C  \n",
       "2      0  STON/O2. 3101282   7.9250   NaN        S  \n",
       "3      0            113803  53.1000  C123        S  \n",
       "4      0            373450   8.0500   NaN        S  "
      ]
     },
     "execution_count": 24,
     "metadata": {},
     "output_type": "execute_result"
    }
   ],
   "source": [
    "df.head()"
   ]
  },
  {
   "cell_type": "code",
   "execution_count": 25,
   "id": "33a0d481-3b63-448f-a13f-a3fce836dd07",
   "metadata": {
    "tags": []
   },
   "outputs": [
    {
     "name": "stdout",
     "output_type": "stream",
     "text": [
      "Variable    Definition                                             Key\n",
      "----------  -----------------------------------------------------  ----------------------------------------------------------------------\n",
      "survival    Survival                                               0 = No, 1 = Yes\n",
      "pclass      Ticket class: A proxy for socio-economic status (SES)  1 = Upper, 2 = Middle, 3 = Lower\n",
      "sex         Sex\n",
      "Age         Age in years\n",
      "sibsp       # of siblings / spouses aboard the Titanic\n",
      "parch       # of parents / children aboard the Titanic             Some children travelled only with a nanny, therefore parch=0 for them.\n",
      "ticket      Ticket number\n",
      "fare        Passenger fare\n",
      "cabin       Cabin number\n",
      "embarked    Port of Embarkation                                    C = Cherbourg, Q = Queenstown, S = Southampton\n"
     ]
    }
   ],
   "source": [
    "# Data Dictionary -- Thisal\n",
    "t_head = ['Variable', 'Definition', 'Key']\n",
    "r_1 = ['survival','Survival','0 = No, 1 = Yes']\n",
    "r_2 = ['pclass','Ticket class: A proxy for socio-economic status (SES)','1 = Upper, 2 = Middle, 3 = Lower']\n",
    "r_3 = ['sex', 'Sex']\n",
    "r_4 = ['Age', 'Age in years']\n",
    "r_5 = ['sibsp','# of siblings / spouses aboard the Titanic']\n",
    "r_6 = ['parch', '# of parents / children aboard the Titanic','Some children travelled only with a nanny, therefore parch=0 for them.']\n",
    "r_7 = ['ticket', 'Ticket number']\n",
    "r_8 = ['fare', 'Passenger fare']\n",
    "r_9 = ['cabin', 'Cabin number']\n",
    "r_10 = ['embarked','Port of Embarkation','C = Cherbourg, Q = Queenstown, S = Southampton']\n",
    "table = [t_head, r_1,r_2, r_3, r_4, r_5, r_6, r_7, r_8, r_9, r_10]\n",
    "print(tabulate(table, headers = \"firstrow\" ))"
   ]
  },
  {
   "cell_type": "code",
   "execution_count": 26,
   "id": "00d38523-2212-48e8-987b-e40b0ea5aeb8",
   "metadata": {
    "tags": []
   },
   "outputs": [
    {
     "data": {
      "text/plain": [
       "(891, 12)"
      ]
     },
     "execution_count": 26,
     "metadata": {},
     "output_type": "execute_result"
    }
   ],
   "source": [
    "# size of the data frame\n",
    "df.shape  "
   ]
  },
  {
   "cell_type": "code",
   "execution_count": 27,
   "id": "3ed58d90-81f0-4d11-8dd9-729b3af63871",
   "metadata": {
    "tags": []
   },
   "outputs": [
    {
     "name": "stdout",
     "output_type": "stream",
     "text": [
      "<class 'pandas.core.frame.DataFrame'>\n",
      "RangeIndex: 891 entries, 0 to 890\n",
      "Data columns (total 12 columns):\n",
      " #   Column       Non-Null Count  Dtype  \n",
      "---  ------       --------------  -----  \n",
      " 0   PassengerId  891 non-null    int64  \n",
      " 1   Survived     891 non-null    int64  \n",
      " 2   Pclass       891 non-null    int64  \n",
      " 3   Name         891 non-null    object \n",
      " 4   Sex          891 non-null    object \n",
      " 5   Age          714 non-null    float64\n",
      " 6   SibSp        891 non-null    int64  \n",
      " 7   Parch        891 non-null    int64  \n",
      " 8   Ticket       891 non-null    object \n",
      " 9   Fare         891 non-null    float64\n",
      " 10  Cabin        204 non-null    object \n",
      " 11  Embarked     889 non-null    object \n",
      "dtypes: float64(2), int64(5), object(5)\n",
      "memory usage: 83.7+ KB\n"
     ]
    }
   ],
   "source": [
    "# Description of the types of data in the data frame\n",
    "df.info()"
   ]
  },
  {
   "cell_type": "code",
   "execution_count": 28,
   "id": "984a75b5",
   "metadata": {
    "scrolled": true,
    "tags": []
   },
   "outputs": [
    {
     "data": {
      "text/html": [
       "<div>\n",
       "<style scoped>\n",
       "    .dataframe tbody tr th:only-of-type {\n",
       "        vertical-align: middle;\n",
       "    }\n",
       "\n",
       "    .dataframe tbody tr th {\n",
       "        vertical-align: top;\n",
       "    }\n",
       "\n",
       "    .dataframe thead th {\n",
       "        text-align: right;\n",
       "    }\n",
       "</style>\n",
       "<table border=\"1\" class=\"dataframe\">\n",
       "  <thead>\n",
       "    <tr style=\"text-align: right;\">\n",
       "      <th></th>\n",
       "      <th>PassengerId</th>\n",
       "      <th>Survived</th>\n",
       "      <th>Pclass</th>\n",
       "      <th>Age</th>\n",
       "      <th>SibSp</th>\n",
       "      <th>Parch</th>\n",
       "      <th>Fare</th>\n",
       "    </tr>\n",
       "  </thead>\n",
       "  <tbody>\n",
       "    <tr>\n",
       "      <th>count</th>\n",
       "      <td>891.000000</td>\n",
       "      <td>891.000000</td>\n",
       "      <td>891.000000</td>\n",
       "      <td>714.000000</td>\n",
       "      <td>891.000000</td>\n",
       "      <td>891.000000</td>\n",
       "      <td>891.000000</td>\n",
       "    </tr>\n",
       "    <tr>\n",
       "      <th>mean</th>\n",
       "      <td>446.000000</td>\n",
       "      <td>0.383838</td>\n",
       "      <td>2.308642</td>\n",
       "      <td>29.699118</td>\n",
       "      <td>0.523008</td>\n",
       "      <td>0.381594</td>\n",
       "      <td>32.204208</td>\n",
       "    </tr>\n",
       "    <tr>\n",
       "      <th>std</th>\n",
       "      <td>257.353842</td>\n",
       "      <td>0.486592</td>\n",
       "      <td>0.836071</td>\n",
       "      <td>14.526497</td>\n",
       "      <td>1.102743</td>\n",
       "      <td>0.806057</td>\n",
       "      <td>49.693429</td>\n",
       "    </tr>\n",
       "    <tr>\n",
       "      <th>min</th>\n",
       "      <td>1.000000</td>\n",
       "      <td>0.000000</td>\n",
       "      <td>1.000000</td>\n",
       "      <td>0.420000</td>\n",
       "      <td>0.000000</td>\n",
       "      <td>0.000000</td>\n",
       "      <td>0.000000</td>\n",
       "    </tr>\n",
       "    <tr>\n",
       "      <th>25%</th>\n",
       "      <td>223.500000</td>\n",
       "      <td>0.000000</td>\n",
       "      <td>2.000000</td>\n",
       "      <td>20.125000</td>\n",
       "      <td>0.000000</td>\n",
       "      <td>0.000000</td>\n",
       "      <td>7.910400</td>\n",
       "    </tr>\n",
       "    <tr>\n",
       "      <th>50%</th>\n",
       "      <td>446.000000</td>\n",
       "      <td>0.000000</td>\n",
       "      <td>3.000000</td>\n",
       "      <td>28.000000</td>\n",
       "      <td>0.000000</td>\n",
       "      <td>0.000000</td>\n",
       "      <td>14.454200</td>\n",
       "    </tr>\n",
       "    <tr>\n",
       "      <th>75%</th>\n",
       "      <td>668.500000</td>\n",
       "      <td>1.000000</td>\n",
       "      <td>3.000000</td>\n",
       "      <td>38.000000</td>\n",
       "      <td>1.000000</td>\n",
       "      <td>0.000000</td>\n",
       "      <td>31.000000</td>\n",
       "    </tr>\n",
       "    <tr>\n",
       "      <th>max</th>\n",
       "      <td>891.000000</td>\n",
       "      <td>1.000000</td>\n",
       "      <td>3.000000</td>\n",
       "      <td>80.000000</td>\n",
       "      <td>8.000000</td>\n",
       "      <td>6.000000</td>\n",
       "      <td>512.329200</td>\n",
       "    </tr>\n",
       "  </tbody>\n",
       "</table>\n",
       "</div>"
      ],
      "text/plain": [
       "       PassengerId    Survived      Pclass         Age       SibSp  \\\n",
       "count   891.000000  891.000000  891.000000  714.000000  891.000000   \n",
       "mean    446.000000    0.383838    2.308642   29.699118    0.523008   \n",
       "std     257.353842    0.486592    0.836071   14.526497    1.102743   \n",
       "min       1.000000    0.000000    1.000000    0.420000    0.000000   \n",
       "25%     223.500000    0.000000    2.000000   20.125000    0.000000   \n",
       "50%     446.000000    0.000000    3.000000   28.000000    0.000000   \n",
       "75%     668.500000    1.000000    3.000000   38.000000    1.000000   \n",
       "max     891.000000    1.000000    3.000000   80.000000    8.000000   \n",
       "\n",
       "            Parch        Fare  \n",
       "count  891.000000  891.000000  \n",
       "mean     0.381594   32.204208  \n",
       "std      0.806057   49.693429  \n",
       "min      0.000000    0.000000  \n",
       "25%      0.000000    7.910400  \n",
       "50%      0.000000   14.454200  \n",
       "75%      0.000000   31.000000  \n",
       "max      6.000000  512.329200  "
      ]
     },
     "execution_count": 28,
     "metadata": {},
     "output_type": "execute_result"
    }
   ],
   "source": [
    "# Some descriptive statistics from the data frame\n",
    "df.describe()"
   ]
  },
  {
   "cell_type": "code",
   "execution_count": 29,
   "id": "b039252d",
   "metadata": {
    "tags": []
   },
   "outputs": [
    {
     "data": {
      "text/plain": [
       "Index(['PassengerId', 'Survived', 'Pclass', 'Name', 'Sex', 'Age', 'SibSp',\n",
       "       'Parch', 'Ticket', 'Fare', 'Cabin', 'Embarked'],\n",
       "      dtype='object')"
      ]
     },
     "execution_count": 29,
     "metadata": {},
     "output_type": "execute_result"
    }
   ],
   "source": [
    "df.columns"
   ]
  },
  {
   "cell_type": "code",
   "execution_count": 30,
   "id": "25b54c29-612a-45e7-a908-94d464ab74ab",
   "metadata": {
    "tags": []
   },
   "outputs": [
    {
     "name": "stderr",
     "output_type": "stream",
     "text": [
      "C:\\Users\\REDI.REDI-4042\\AppData\\Local\\Temp\\ipykernel_7312\\990198679.py:2: FutureWarning: The default value of numeric_only in DataFrame.corr is deprecated. In a future version, it will default to False. Select only valid columns or specify the value of numeric_only to silence this warning.\n",
      "  corr = df.corr()\n"
     ]
    },
    {
     "data": {
      "image/png": "[encoded data removed]",
      "text/plain": [
       "<Figure size 640x480 with 2 Axes>"
      ]
     },
     "metadata": {},
     "output_type": "display_data"
    }
   ],
   "source": [
    "# Correlation matrix --Thisal\n",
    "corr = df.corr()\n",
    "sns.heatmap(corr, annot = True, cmap=\"Spectral\")\n",
    "plt.show()"
   ]
  },
  {
   "cell_type": "code",
   "execution_count": 31,
   "id": "8f8782fe-95bb-45a8-9ebc-1539e39a94a3",
   "metadata": {
    "tags": []
   },
   "outputs": [
    {
     "data": {
      "text/plain": [
       "<matplotlib.collections.PathCollection at 0x1b4a16031f0>"
      ]
     },
     "execution_count": 31,
     "metadata": {},
     "output_type": "execute_result"
    },
    {
     "data": {
      "image/png": "[encoded data removed]",
      "text/plain": [
       "<Figure size 640x480 with 1 Axes>"
      ]
     },
     "metadata": {},
     "output_type": "display_data"
    }
   ],
   "source": [
    "plt.scatter(df['Fare'],df['Survived'])"
   ]
  },
  {
   "cell_type": "markdown",
   "id": "5acbc6d5-512a-4265-ac95-21c257511058",
   "metadata": {},
   "source": [
    "Generally by looking at the correlation coefficient none of the features depict any strong correlations. But for the survival it seems that for **Pclass** and **Fare** are mostly related with the **Survival rate** but in a negative manner."
   ]
  },
  {
   "cell_type": "code",
   "execution_count": 54,
   "id": "ce78c9fe",
   "metadata": {
    "tags": []
   },
   "outputs": [],
   "source": [
    "#saving some variables for later use\n",
    "total_passengers = df['PassengerId'].count()\n",
    "survived_or_not = df.value_counts(['Survived'])\n",
    "survived = survived_or_not[1]\n",
    "died = survived_or_not[0]\n",
    "survival_rate = (survived/total_passengers)\n",
    "survival_rate_percent = ((survived/total_passengers) * 100).round(1)\n",
    "death_rate = (died/total_passengers)\n",
    "death_rate_percent = ((died/total_passengers) * 100).round(1) # rounding for ease of reading, don't do calculations though!\n",
    "female_data = df[df['Sex'] == 'female']\n",
    "male_data = df[df['Sex'] == 'male']\n",
    "female_survival_rate = ((female_data['Survived'].sum() / len(female_data)) * 100).round(1)\n",
    "male_survival_rate = ((male_data['Survived'].sum() / len(male_data)) * 100).round(1)"
   ]
  },
  {
   "cell_type": "markdown",
   "id": "2fd0a727",
   "metadata": {},
   "source": [
    "## #1. What is the likelihood of survival in general? "
   ]
  },
  {
   "cell_type": "code",
   "execution_count": 58,
   "id": "6910a629",
   "metadata": {
    "tags": []
   },
   "outputs": [
    {
     "name": "stdout",
     "output_type": "stream",
     "text": [
      "The overall survival rate was 38.4 %\n",
      "The overall death rate was 61.6 %\n",
      "The death rate and survival rate for baseline predictions is: Death rate: 0.6161616161616161, Survival rate 0.3838383838383838\n"
     ]
    }
   ],
   "source": [
    "print(f'The overall survival rate was {survival_rate_percent} %')\n",
    "print(f'The overall death rate was {death_rate_percent} %')\n",
    "\n",
    "print(f'The death rate and survival rate for baseline predictions is: Death rate: {death_rate}, Survival rate {survival_rate}')"
   ]
  },
  {
   "cell_type": "code",
   "execution_count": 52,
   "id": "c6b1dc81",
   "metadata": {},
   "outputs": [
    {
     "name": "stdout",
     "output_type": "stream",
     "text": [
      "The male survival rate was 18.9 %\n",
      "The female survival rate was 74.2 %\n"
     ]
    }
   ],
   "source": [
    "print(f'The male survival rate was {male_survival_rate} %')\n",
    "print(f'The female survival rate was {female_survival_rate} %')"
   ]
  },
  {
   "cell_type": "code",
   "execution_count": 34,
   "id": "cf762eff-d8ae-4b13-b0e4-fbfbf22051a9",
   "metadata": {
    "tags": []
   },
   "outputs": [
    {
     "data": {
      "image/png": "[encoded data removed]",
      "text/plain": [
       "<Figure size 640x480 with 1 Axes>"
      ]
     },
     "metadata": {},
     "output_type": "display_data"
    }
   ],
   "source": [
    "# Display the likelihood of survival in a pie chart\n",
    "color = sns.color_palette('bright')[0:5]  #define Seaborn color palette to use\n",
    "plt.pie([survival_rate, death_rate], labels = ['Survived', 'Dead'], colors = color, autopct =\"%.1f%%\")\n",
    "plt.show()"
   ]
  },
  {
   "cell_type": "markdown",
   "id": "52923527",
   "metadata": {},
   "source": [
    "## #2. What is the relationship between sex and survival rate? "
   ]
  },
  {
   "cell_type": "markdown",
   "id": "b82a8028",
   "metadata": {},
   "source": [
    "We already know that women were more likely to survive than men, but at what rate? "
   ]
  },
  {
   "cell_type": "code",
   "execution_count": 35,
   "id": "287a5084",
   "metadata": {},
   "outputs": [
    {
     "data": {
      "text/plain": [
       "Sex     Survived\n",
       "female  1           0.742038\n",
       "        0           0.257962\n",
       "male    0           0.811092\n",
       "        1           0.188908\n",
       "Name: Survived, dtype: float64"
      ]
     },
     "execution_count": 35,
     "metadata": {},
     "output_type": "execute_result"
    }
   ],
   "source": [
    "groupby_sex = df.groupby(['Sex'])\n",
    "#rough overview of the data so we can see how it should look\n",
    "# normalise = True so we get percentages so it's easier to see if anything looks totally wrong\n",
    "mfsurvival_rates = groupby_sex['Survived'].value_counts(normalize = True)\n",
    "mfsurvival_rates"
   ]
  },
  {
   "cell_type": "code",
   "execution_count": 36,
   "id": "20a80d19",
   "metadata": {},
   "outputs": [
    {
     "data": {
      "text/plain": [
       "Text(0, 0.5, 'Survived')"
      ]
     },
     "execution_count": 36,
     "metadata": {},
     "output_type": "execute_result"
    },
    {
     "data": {
      "image/png": "[encoded data removed]",
      "text/plain": [
       "<Figure size 640x480 with 1 Axes>"
      ]
     },
     "metadata": {},
     "output_type": "display_data"
    }
   ],
   "source": [
    "sns.countplot(data=df, x='Sex', hue='Survived')\n",
    "\n",
    "# Set plot title and labels\n",
    "plt.title('Survival Status by Sex')\n",
    "plt.xlabel('Sex')\n",
    "plt.ylabel('Survived')"
   ]
  },
  {
   "cell_type": "markdown",
   "id": "354cc009",
   "metadata": {},
   "source": [
    "## #3. How does passenger class correlate with survival rate? "
   ]
  },
  {
   "cell_type": "markdown",
   "id": "027ce833",
   "metadata": {},
   "source": [
    "Think we can assume that first class folks are likely to do best, as is usually the way of the world. But by how much? "
   ]
  },
  {
   "cell_type": "code",
   "execution_count": 37,
   "id": "a012e4ab",
   "metadata": {},
   "outputs": [
    {
     "data": {
      "text/plain": [
       "<Axes: xlabel='Sex', ylabel='Survived'>"
      ]
     },
     "execution_count": 37,
     "metadata": {},
     "output_type": "execute_result"
    },
    {
     "data": {
      "image/png": "[encoded data removed]",
      "text/plain": [
       "<Figure size 640x480 with 1 Axes>"
      ]
     },
     "metadata": {},
     "output_type": "display_data"
    }
   ],
   "source": [
    "sns.barplot(data = df, x=\"Sex\", y=\"Survived\", hue =\"Pclass\")"
   ]
  },
  {
   "cell_type": "markdown",
   "id": "2bc0a330",
   "metadata": {},
   "source": [
    "I actually didn't expect it to be the case that even 3rd class women were better off than first class men in terms of survival rate. "
   ]
  },
  {
   "cell_type": "markdown",
   "id": "7ff875a0",
   "metadata": {},
   "source": [
    "## 4. Any correlation between age and survival rate?"
   ]
  },
  {
   "cell_type": "code",
   "execution_count": 38,
   "id": "87de6901",
   "metadata": {},
   "outputs": [
    {
     "name": "stdout",
     "output_type": "stream",
     "text": [
      "80.0\n",
      "0.42\n"
     ]
    }
   ],
   "source": [
    "#Just out of interest- who is the oldest and youngest survivor? \n",
    "passengers_survived = df[df['Survived'] == 1]\n",
    "oldest_age = passengers_survived['Age'].max()\n",
    "print(oldest_age)\n",
    "youngest_age = passengers_survived['Age'].min()\n",
    "print(youngest_age)\n"
   ]
  },
  {
   "cell_type": "code",
   "execution_count": 39,
   "id": "8abbeef9",
   "metadata": {},
   "outputs": [
    {
     "name": "stdout",
     "output_type": "stream",
     "text": [
      "The oldest survivor was called Barkworth, Mr. Algernon Henry Wilson and they were 80.0.\n",
      "The youngest survivor was called Thomas, Master. Assad Alexander and they were 0.42.\n"
     ]
    }
   ],
   "source": [
    "oldest_row = df.loc[df['Age'].idxmax()]\n",
    "youngest_row = df.loc[df['Age'].idxmin()]\n",
    "oldest_survivor = (oldest_row['Name'])\n",
    "youngest_survivor = (youngest_row['Name'])\n",
    "\n",
    "print(f'The oldest survivor was called {oldest_survivor} and they were {oldest_age}.')\n",
    "print(f'The youngest survivor was called {youngest_survivor} and they were {youngest_age}.')"
   ]
  },
  {
   "cell_type": "code",
   "execution_count": 40,
   "id": "863b297f-d37c-460f-bf8c-43a1f8210f58",
   "metadata": {
    "scrolled": false,
    "tags": []
   },
   "outputs": [
    {
     "data": {
      "text/plain": [
       "<Axes: >"
      ]
     },
     "execution_count": 40,
     "metadata": {},
     "output_type": "execute_result"
    },
    {
     "data": {
      "image/png": "[encoded data removed]",
      "text/plain": [
       "<Figure size 640x480 with 1 Axes>"
      ]
     },
     "metadata": {},
     "output_type": "display_data"
    }
   ],
   "source": [
    "# Distribution of the age of the passengers\n",
    "df['Age'].hist(bins = 10)"
   ]
  },
  {
   "cell_type": "code",
   "execution_count": 41,
   "id": "c434c713",
   "metadata": {},
   "outputs": [
    {
     "data": {
      "text/plain": [
       "<Axes: >"
      ]
     },
     "execution_count": 41,
     "metadata": {},
     "output_type": "execute_result"
    },
    {
     "data": {
      "image/png": "[encoded data removed]",
      "text/plain": [
       "<Figure size 640x480 with 1 Axes>"
      ]
     },
     "metadata": {},
     "output_type": "display_data"
    }
   ],
   "source": [
    "# Distribution of the age of the passengers that survived\n",
    "passengers_survived['Age'].hist(bins = 10)"
   ]
  },
  {
   "cell_type": "markdown",
   "id": "691db287",
   "metadata": {},
   "source": [
    "The distribution of the passengers present compared to the passengers that survived is quite similar, and there also seems to be a lot of null values, so I think this datapoint isn't particularly important."
   ]
  },
  {
   "cell_type": "markdown",
   "id": "357da87e",
   "metadata": {},
   "source": [
    "## 5. Any correlation between where a passenger embarks and survival rate?"
   ]
  },
  {
   "cell_type": "code",
   "execution_count": 42,
   "id": "f811701f",
   "metadata": {},
   "outputs": [
    {
     "data": {
      "text/plain": [
       "Embarked\n",
       "S           644\n",
       "C           168\n",
       "Q            77\n",
       "dtype: int64"
      ]
     },
     "execution_count": 42,
     "metadata": {},
     "output_type": "execute_result"
    }
   ],
   "source": [
    "df.value_counts(['Embarked'])\n",
    "\n",
    "#S = Southampton\n",
    "#C = Cherbourg\n",
    "#Q = Cobh (it was called Queenstown at the time, but they have now ditched the colonial name)"
   ]
  },
  {
   "cell_type": "markdown",
   "id": "3f737f03",
   "metadata": {},
   "source": [
    "Following graph is the survival rates based on only where folks embarked, disregarding all other factors. "
   ]
  },
  {
   "cell_type": "code",
   "execution_count": 43,
   "id": "3ed268a3",
   "metadata": {},
   "outputs": [
    {
     "data": {
      "text/plain": [
       "<Axes: xlabel='PassengerId', ylabel='Embarked'>"
      ]
     },
     "execution_count": 43,
     "metadata": {},
     "output_type": "execute_result"
    },
    {
     "data": {
      "image/png": "[encoded data removed]",
      "text/plain": [
       "<Figure size 640x480 with 1 Axes>"
      ]
     },
     "metadata": {},
     "output_type": "display_data"
    }
   ],
   "source": [
    "sns.barplot(data = df, x=\"PassengerId\", y=\"Embarked\", hue =\"Survived\")"
   ]
  },
  {
   "cell_type": "markdown",
   "id": "452e9c3e",
   "metadata": {},
   "source": [
    "It seems to indicate that getting on in Cobh gave you a statistically rather low chance of survival.\n",
    "\n",
    "Let's take sex into account and see what difference it makes"
   ]
  },
  {
   "cell_type": "code",
   "execution_count": 44,
   "id": "85716e7c",
   "metadata": {},
   "outputs": [
    {
     "data": {
      "text/plain": [
       "<Axes: xlabel='Sex', ylabel='Survived'>"
      ]
     },
     "execution_count": 44,
     "metadata": {},
     "output_type": "execute_result"
    },
    {
     "data": {
      "image/png": "[encoded data removed]",
      "text/plain": [
       "<Figure size 640x480 with 1 Axes>"
      ]
     },
     "metadata": {},
     "output_type": "display_data"
    }
   ],
   "source": [
    "sns.barplot(data = df, x=\"Sex\", y=\"Survived\", hue =\"Embarked\")"
   ]
  },
  {
   "cell_type": "markdown",
   "id": "3252a444",
   "metadata": {},
   "source": [
    "Fellas that embarked in Ireland were significantly less likely to survive than a woman who embarked in France. They have statistically the largest chance of survival.\n",
    "\n",
    "Out of interest, what is the sex breakdown of embarkation? Did a lot more men embark in Ireland? "
   ]
  },
  {
   "cell_type": "code",
   "execution_count": 45,
   "id": "b86017f6",
   "metadata": {},
   "outputs": [
    {
     "data": {
      "text/plain": [
       "<Axes: xlabel='Embarked', ylabel='count'>"
      ]
     },
     "execution_count": 45,
     "metadata": {},
     "output_type": "execute_result"
    },
    {
     "data": {
      "image/png": "[encoded data removed]",
      "text/plain": [
       "<Figure size 640x480 with 1 Axes>"
      ]
     },
     "metadata": {},
     "output_type": "display_data"
    }
   ],
   "source": [
    "sns.countplot(data = df, x=\"Embarked\", hue = 'Sex')"
   ]
  },
  {
   "cell_type": "markdown",
   "id": "a25ba3e4",
   "metadata": {},
   "source": [
    "Damn, that's crazy. The difference between men and women embarking in Cobh is negligible, but the death rate is staggeringly different. Bad day to be an Irish fella. \n",
    "What proportion of those men that embarked at Cobh survived?"
   ]
  },
  {
   "cell_type": "code",
   "execution_count": 46,
   "id": "6ebc2d33",
   "metadata": {},
   "outputs": [
    {
     "data": {
      "text/plain": [
       "Embarked  Sex     Survived\n",
       "C         female  1           0.876712\n",
       "                  0           0.123288\n",
       "          male    0           0.694737\n",
       "                  1           0.305263\n",
       "Q         female  1           0.750000\n",
       "                  0           0.250000\n",
       "          male    0           0.926829\n",
       "                  1           0.073171\n",
       "S         female  1           0.689655\n",
       "                  0           0.310345\n",
       "          male    0           0.825397\n",
       "                  1           0.174603\n",
       "Name: Survived, dtype: float64"
      ]
     },
     "execution_count": 46,
     "metadata": {},
     "output_type": "execute_result"
    }
   ],
   "source": [
    "mf_groupby_embarked = df.groupby(['Embarked', 'Sex'])\n",
    "cobh_survival_rates = mf_groupby_embarked['Survived'].value_counts(normalize = True)\n",
    "cobh_survival_rates"
   ]
  },
  {
   "cell_type": "markdown",
   "id": "f7ff44cb",
   "metadata": {},
   "source": [
    "So the average survival rate was 38.4%. \n",
    "The survival rate of men embarking in Cobh was roughly only 7%, with over a 92% chance you weren't gonna make it.\n",
    "The highest survival rate was women embarking in France at an 87% survival rate. "
   ]
  },
  {
   "cell_type": "markdown",
   "id": "7571c096-0a9a-4eb6-ae1f-1a78735b19b9",
   "metadata": {},
   "source": [
    "##  Verify the correlation with Categorical variables"
   ]
  },
  {
   "cell_type": "markdown",
   "id": "02b840e5-d068-4925-b184-90c24900d3a6",
   "metadata": {},
   "source": [
    "But to make sure the correlation between two categorical variables we have to perform Chi-square test between **Sex** and Survival and between **Embarked** and Survival"
   ]
  },
  {
   "cell_type": "code",
   "execution_count": 47,
   "id": "cb58f16d-3ed8-4f10-bae3-ff41ce5c76ea",
   "metadata": {
    "tags": []
   },
   "outputs": [],
   "source": [
    "from scipy.stats import chisquare\n",
    "from scipy.stats import chi2"
   ]
  },
  {
   "cell_type": "code",
   "execution_count": 48,
   "id": "23b2e61b-80c7-492f-91f1-7cbb4d16648f",
   "metadata": {
    "tags": []
   },
   "outputs": [
    {
     "name": "stdout",
     "output_type": "stream",
     "text": [
      "Survived    0    1\n",
      "Sex               \n",
      "female     81  233\n",
      "male      468  109\n"
     ]
    }
   ],
   "source": [
    "cross_tab_sex = pd.crosstab(df['Sex'],df['Survived']) \n",
    "print(cross_tab_sex)"
   ]
  },
  {
   "cell_type": "code",
   "execution_count": 49,
   "id": "2cadbd89-4c01-4932-ac16-81fa1172409a",
   "metadata": {
    "tags": []
   },
   "outputs": [],
   "source": [
    "# Test the relationship between two categorical variables using Chi-square test -- Thisal \n",
    "def chi_sqr_test(att_1, att_2):\n",
    "    cross_tab_sex = pd.crosstab(df[att_1],df[att_2]) \n",
    "    # Observed values\n",
    "    ob_val = cross_tab_sex.values\n",
    "    # Expected values\n",
    "    Chi_cont_val = stats.chi2_contingency(cross_tab_sex)\n",
    "    ex_val = Chi_cont_val[3]\n",
    "\n",
    "    no_of_rows = len(cross_tab_sex.iloc[0:2,0])\n",
    "    no_of_columns = len(cross_tab_sex.iloc[0,0:2])\n",
    "    \n",
    "    # degree of freedom\n",
    "    ddof = (no_of_rows-1)*(no_of_columns)  \n",
    "    alpha = 0.05\n",
    "\n",
    "    chi_square = sum([(o-e)**2./e for o,e in zip(ob_val,ex_val)])\n",
    "    chi_square_statistic = chi_square[0]+chi_square[1]\n",
    "\n",
    "    critical_value = chi2.ppf(q=1-alpha,df=ddof)\n",
    "    p_value = 1-chi2.cdf(x=chi_square_statistic, df= ddof)\n",
    "    \n",
    "    if p_value <= alpha:\n",
    "        print(f\" There is a relationship with the two categorical variables {att_1} and {att_2}\")\n",
    "    else:\n",
    "        print(f\" There is a No relationship with the two categorical variables {att_1} and {att_2}\")"
   ]
  },
  {
   "cell_type": "code",
   "execution_count": 50,
   "id": "bf69c896-f88a-4188-844b-821799569af7",
   "metadata": {
    "tags": []
   },
   "outputs": [
    {
     "name": "stdout",
     "output_type": "stream",
     "text": [
      " There is a relationship with the two categorical variables Sex and Survived\n"
     ]
    }
   ],
   "source": [
    "# checking the relationship with the categorical attributes Sex and Survived\n",
    "chi_sqr_test('Sex','Survived')"
   ]
  },
  {
   "cell_type": "code",
   "execution_count": 51,
   "id": "2349f110-bb5f-432b-811b-83cdcd713b69",
   "metadata": {
    "tags": []
   },
   "outputs": [
    {
     "name": "stdout",
     "output_type": "stream",
     "text": [
      " There is a relationship with the two categorical variables Embarked and Survived\n"
     ]
    }
   ],
   "source": [
    "# checking the relationship with the categorical attributes Embarked and Survived\n",
    "chi_sqr_test('Embarked','Survived')"
   ]
  },
  {
   "cell_type": "markdown",
   "id": "4f7b92a1-4330-4409-b53a-05648e225661",
   "metadata": {},
   "source": [
    "## Summary of the Analysis\n",
    "* From numerical features **Pclass(-0.34)** and **Fare(0.26)** are more related to the survival \n",
    "* **Age** there does not seems to be having a considerable correlation with the survival.\n",
    "* **Sex** and **Embarked** would be probabale categorical features for the model\n"
   ]
  },
  {
   "cell_type": "markdown",
   "id": "0c2d6b2d",
   "metadata": {},
   "source": [
    "## Baseline Accuracy for a Classification Model\n",
    "\n",
    "We need a baseline. Why? \n",
    "\n",
    "We have an unbalanced data set: \n",
    "The **survival rate overall** according to the exploratory analysis was **38.4%**\n",
    "The overall **death rate** was **61.6%** \n",
    "\n",
    "This means that if you predicted that everyone died, your accuracy rate would already be 61.6%.\n",
    "\n",
    "We need to take this into account when checking accuracy. [Classifier for imbalanced data info here](https://towardsdatascience.com/calculating-a-baseline-accuracy-for-a-classification-model-a4b342ceb88f)"
   ]
  },
  {
   "cell_type": "markdown",
   "id": "803292fc",
   "metadata": {},
   "source": [
    "1. Method: Weighted guessing\n",
    "\n",
    "First we can get a baseline for weighted guessing: \n",
    "The odds are 61/38 die/survive. \n",
    "If you imagine that you gues randomly with a 61/38 distribution what would your likely success rate be:"
   ]
  },
  {
   "cell_type": "code",
   "execution_count": 60,
   "id": "04ca4d83",
   "metadata": {},
   "outputs": [
    {
     "name": "stdout",
     "output_type": "stream",
     "text": [
      "The chance of guessing survival rate correctly is 0.14730243999999998\n",
      "The chance of guessing death rate correctly is 0.37957921\n",
      "The baseline is 0.52688165\n"
     ]
    }
   ],
   "source": [
    "overall_survival_rate = 0.3838\n",
    "overall_death_rate = 0.6161\n",
    "#Odds of Guessing survived correctly: \n",
    "survival_guess_chance = overall_survival_rate * overall_survival_rate\n",
    "print(f'The chance of guessing survival rate correctly is {survival_guess_chance}')\n",
    "#Odds of Guessing died correctly: \n",
    "death_guess_chance = overall_death_rate * overall_death_rate\n",
    "print(f'The chance of guessing death rate correctly is {death_guess_chance}')\n",
    "baseline = overall_survival_rate**2 + overall_death_rate**2 \n",
    "print(f'The baseline is {baseline}')"
   ]
  },
  {
   "cell_type": "markdown",
   "id": "30cd8cf2",
   "metadata": {},
   "source": [
    "This means that with random weighted guessing we would still barely be better than 50%, with a 52% chance of getting it correct by randomly guessing based on the odds we can see from the overall death and survival rate. "
   ]
  },
  {
   "cell_type": "markdown",
   "id": "ac126d66",
   "metadata": {},
   "source": [
    "2. Method: Most frequent: Zero Rate Classifier\n",
    "\n",
    "If the model just selects the most popular option - the death rate is 0.6161 - it will be correct at that rate. \n",
    "The baseline in this case would be 0.6161"
   ]
  },
  {
   "cell_type": "markdown",
   "id": "42d70787",
   "metadata": {},
   "source": [
    "Every model must be better then ZeroR to be useful at all. Therefore the new lowest acceptable baseline for any model created to be worthwhile is 61% accuracy."
   ]
  },
  {
   "cell_type": "markdown",
   "id": "bcd78c90",
   "metadata": {},
   "source": [
    "## Graphing out iteration scores\n"
   ]
  },
  {
   "cell_type": "code",
   "execution_count": 69,
   "id": "032665d9",
   "metadata": {},
   "outputs": [
    {
     "data": {
      "image/png": "[encoded data removed]",
      "text/plain": [
       "<Figure size 640x480 with 1 Axes>"
      ]
     },
     "metadata": {},
     "output_type": "display_data"
    }
   ],
   "source": [
    "iterations = [1, 2]\n",
    "\n",
    "baseline1_weighted_guessing = [0.52688165] * len(iterations)\n",
    "baseline2_ZeroR =  [0.6161] * len(iterations) \n",
    "model_accuracy = [0.7966, 0.8407]  #Logistic_regression.ipynb, xgboost_classification.ipynb\n",
    "# model_f1 = [0.7247, 0.8690]\n",
    "\n",
    "iterations = [1, 2]\n",
    "\n",
    "plt.plot(iterations, baseline1_weighted_guessing, label='Weighted Guessing', linestyle='--')\n",
    "plt.plot(iterations, baseline2_ZeroR, label='ZeroR', linestyle='--')\n",
    "\n",
    "plt.plot(iterations, model_accuracy, label='Accuracy', marker='o')\n",
    "# plt.plot(iterations, model_scores, label='F1', marker='o')\n",
    "# removed F1 score because it was so similar to accuracy that you couldn't see both lines. \n",
    "\n",
    "plt.title('Comparison of Model Success Scores')\n",
    "plt.xlabel('Iterations')\n",
    "plt.xticks(iterations)\n",
    "plt.ylabel('Model Accuracy')\n",
    "plt.ylim(0, 1) # can remove this, I just wanted to see it in the full 'percent' scope.\n",
    "plt.legend()\n",
    "plt.show()"
   ]
  }
 ],
 "metadata": {
  "kernelspec": {
   "display_name": "Python 3 (ipykernel)",
   "language": "python",
   "name": "python3"
  },
  "language_info": {
   "codemirror_mode": {
    "name": "ipython",
    "version": 3
   },
   "file_extension": ".py",
   "mimetype": "text/x-python",
   "name": "python",
   "nbconvert_exporter": "python",
   "pygments_lexer": "ipython3",
   "version": "3.10.9"
  }
 },
 "nbformat": 4,
 "nbformat_minor": 5
}
