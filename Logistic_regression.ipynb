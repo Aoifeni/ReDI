{
 "cells": [
  {
   "cell_type": "code",
   "execution_count": 3,
   "id": "7958b32a-44a5-4374-8391-72a7d5eefc57",
   "metadata": {
    "tags": []
   },
   "outputs": [],
   "source": [
    "import numpy as np # linear algebra\n",
    "import pandas as pd # data processing\n",
    "import matplotlib.pyplot as plt # data visualization\n",
    "import seaborn as sns # data visualization\n",
    "from sklearn.linear_model import LogisticRegression\n",
    "from sklearn.metrics import confusion_matrix"
   ]
  },
  {
   "cell_type": "code",
   "execution_count": null,
   "id": "66a654ed-9794-4c56-9793-4df8e8e61629",
   "metadata": {},
   "outputs": [],
   "source": [
    "df = pd.read_csv('data_sets/train.csv')\n",
    "df.head()"
   ]
  },
  {
   "cell_type": "code",
   "execution_count": 2,
   "id": "33ac6e69-1a93-44f0-8cf8-ac936ae65fe1",
   "metadata": {
    "tags": []
   },
   "outputs": [],
   "source": [
    "# selection of the model\n",
    "model = LogisticRegression(multi_class='multinomial')"
   ]
  },
  {
   "cell_type": "code",
   "execution_count": null,
   "id": "39f54c0a-9c2c-488a-8b87-3027c89f9a2d",
   "metadata": {},
   "outputs": [],
   "source": [
    "# encode the categorical column to numerical values with dictionary (Important piece of code)\n",
    "transform_dic = {'Sex': {\"female\":0, \"male\":1},\n",
    "                'Embarked' : {'C':0, 'Q':1, 'S':2}}\n",
    "tran_df = df.replace(transform_dic)\n",
    "tran_df.head()"
   ]
  }
 ],
 "metadata": {
  "kernelspec": {
   "display_name": "Python 3 (ipykernel)",
   "language": "python",
   "name": "python3"
  },
  "language_info": {
   "codemirror_mode": {
    "name": "ipython",
    "version": 3
   },
   "file_extension": ".py",
   "mimetype": "text/x-python",
   "name": "python",
   "nbconvert_exporter": "python",
   "pygments_lexer": "ipython3",
   "version": "3.11.4"
  }
 },
 "nbformat": 4,
 "nbformat_minor": 5
}
