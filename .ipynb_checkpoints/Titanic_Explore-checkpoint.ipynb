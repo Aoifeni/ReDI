{
 "cells": [
  {
   "cell_type": "markdown",
   "id": "246c3d4e",
   "metadata": {},
   "source": [
    "This is just a small bit of exploratory analysis here to hypothesise about the data, and get some rough ideas about factors for survival."
   ]
  },
  {
   "cell_type": "markdown",
   "id": "537dd232",
   "metadata": {},
   "source": [
    "Some rough thoughts to answer: \n",
    " 1. What is the likelihood of survival in % in general. \n",
    " 2. Sex as correlated with survival.\n",
    " 3. How does class correlate with survival chances.\n",
    " 4. Age as correlated to survival. (bucket age?)\n",
    " 5. Where people embarked affects anything?  \n",
    " 6. Does having a sibling affect your changces of survival? (my expectation is that it reduces your survival  chances, BUT if one sibling survives, then I expect the other sibling also has a higher chance of survival - ie. both or none. )"
   ]
  },
  {
   "cell_type": "code",
   "execution_count": 192,
   "id": "50c20bbd",
   "metadata": {},
   "outputs": [],
   "source": [
    "import numpy as np \n",
    "import pandas as pd \n",
    "import seaborn as sns\n",
    "from matplotlib import pyplot as plt"
   ]
  },
  {
   "cell_type": "code",
   "execution_count": 193,
   "id": "25d6662d",
   "metadata": {},
   "outputs": [],
   "source": [
    "df = pd.read_csv('/users/aoifesullivan/GitHubStuff/titanic/train.csv')"
   ]
  },
  {
   "cell_type": "code",
   "execution_count": 194,
   "id": "93cfa8ef",
   "metadata": {},
   "outputs": [
    {
     "data": {
      "text/html": [
       "<div>\n",
       "<style scoped>\n",
       "    .dataframe tbody tr th:only-of-type {\n",
       "        vertical-align: middle;\n",
       "    }\n",
       "\n",
       "    .dataframe tbody tr th {\n",
       "        vertical-align: top;\n",
       "    }\n",
       "\n",
       "    .dataframe thead th {\n",
       "        text-align: right;\n",
       "    }\n",
       "</style>\n",
       "<table border=\"1\" class=\"dataframe\">\n",
       "  <thead>\n",
       "    <tr style=\"text-align: right;\">\n",
       "      <th></th>\n",
       "      <th>PassengerId</th>\n",
       "      <th>Survived</th>\n",
       "      <th>Pclass</th>\n",
       "      <th>Name</th>\n",
       "      <th>Sex</th>\n",
       "      <th>Age</th>\n",
       "      <th>SibSp</th>\n",
       "      <th>Parch</th>\n",
       "      <th>Ticket</th>\n",
       "      <th>Fare</th>\n",
       "      <th>Cabin</th>\n",
       "      <th>Embarked</th>\n",
       "    </tr>\n",
       "  </thead>\n",
       "  <tbody>\n",
       "    <tr>\n",
       "      <th>0</th>\n",
       "      <td>1</td>\n",
       "      <td>0</td>\n",
       "      <td>3</td>\n",
       "      <td>Braund, Mr. Owen Harris</td>\n",
       "      <td>male</td>\n",
       "      <td>22.0</td>\n",
       "      <td>1</td>\n",
       "      <td>0</td>\n",
       "      <td>A/5 21171</td>\n",
       "      <td>7.2500</td>\n",
       "      <td>NaN</td>\n",
       "      <td>S</td>\n",
       "    </tr>\n",
       "    <tr>\n",
       "      <th>1</th>\n",
       "      <td>2</td>\n",
       "      <td>1</td>\n",
       "      <td>1</td>\n",
       "      <td>Cumings, Mrs. John Bradley (Florence Briggs Th...</td>\n",
       "      <td>female</td>\n",
       "      <td>38.0</td>\n",
       "      <td>1</td>\n",
       "      <td>0</td>\n",
       "      <td>PC 17599</td>\n",
       "      <td>71.2833</td>\n",
       "      <td>C85</td>\n",
       "      <td>C</td>\n",
       "    </tr>\n",
       "    <tr>\n",
       "      <th>2</th>\n",
       "      <td>3</td>\n",
       "      <td>1</td>\n",
       "      <td>3</td>\n",
       "      <td>Heikkinen, Miss. Laina</td>\n",
       "      <td>female</td>\n",
       "      <td>26.0</td>\n",
       "      <td>0</td>\n",
       "      <td>0</td>\n",
       "      <td>STON/O2. 3101282</td>\n",
       "      <td>7.9250</td>\n",
       "      <td>NaN</td>\n",
       "      <td>S</td>\n",
       "    </tr>\n",
       "    <tr>\n",
       "      <th>3</th>\n",
       "      <td>4</td>\n",
       "      <td>1</td>\n",
       "      <td>1</td>\n",
       "      <td>Futrelle, Mrs. Jacques Heath (Lily May Peel)</td>\n",
       "      <td>female</td>\n",
       "      <td>35.0</td>\n",
       "      <td>1</td>\n",
       "      <td>0</td>\n",
       "      <td>113803</td>\n",
       "      <td>53.1000</td>\n",
       "      <td>C123</td>\n",
       "      <td>S</td>\n",
       "    </tr>\n",
       "    <tr>\n",
       "      <th>4</th>\n",
       "      <td>5</td>\n",
       "      <td>0</td>\n",
       "      <td>3</td>\n",
       "      <td>Allen, Mr. William Henry</td>\n",
       "      <td>male</td>\n",
       "      <td>35.0</td>\n",
       "      <td>0</td>\n",
       "      <td>0</td>\n",
       "      <td>373450</td>\n",
       "      <td>8.0500</td>\n",
       "      <td>NaN</td>\n",
       "      <td>S</td>\n",
       "    </tr>\n",
       "  </tbody>\n",
       "</table>\n",
       "</div>"
      ],
      "text/plain": [
       "   PassengerId  Survived  Pclass  \\\n",
       "0            1         0       3   \n",
       "1            2         1       1   \n",
       "2            3         1       3   \n",
       "3            4         1       1   \n",
       "4            5         0       3   \n",
       "\n",
       "                                                Name     Sex   Age  SibSp  \\\n",
       "0                            Braund, Mr. Owen Harris    male  22.0      1   \n",
       "1  Cumings, Mrs. John Bradley (Florence Briggs Th...  female  38.0      1   \n",
       "2                             Heikkinen, Miss. Laina  female  26.0      0   \n",
       "3       Futrelle, Mrs. Jacques Heath (Lily May Peel)  female  35.0      1   \n",
       "4                           Allen, Mr. William Henry    male  35.0      0   \n",
       "\n",
       "   Parch            Ticket     Fare Cabin Embarked  \n",
       "0      0         A/5 21171   7.2500   NaN        S  \n",
       "1      0          PC 17599  71.2833   C85        C  \n",
       "2      0  STON/O2. 3101282   7.9250   NaN        S  \n",
       "3      0            113803  53.1000  C123        S  \n",
       "4      0            373450   8.0500   NaN        S  "
      ]
     },
     "execution_count": 194,
     "metadata": {},
     "output_type": "execute_result"
    }
   ],
   "source": [
    "df.head()"
   ]
  },
  {
   "cell_type": "code",
   "execution_count": 195,
   "id": "984a75b5",
   "metadata": {
    "scrolled": true
   },
   "outputs": [
    {
     "data": {
      "text/html": [
       "<div>\n",
       "<style scoped>\n",
       "    .dataframe tbody tr th:only-of-type {\n",
       "        vertical-align: middle;\n",
       "    }\n",
       "\n",
       "    .dataframe tbody tr th {\n",
       "        vertical-align: top;\n",
       "    }\n",
       "\n",
       "    .dataframe thead th {\n",
       "        text-align: right;\n",
       "    }\n",
       "</style>\n",
       "<table border=\"1\" class=\"dataframe\">\n",
       "  <thead>\n",
       "    <tr style=\"text-align: right;\">\n",
       "      <th></th>\n",
       "      <th>PassengerId</th>\n",
       "      <th>Survived</th>\n",
       "      <th>Pclass</th>\n",
       "      <th>Age</th>\n",
       "      <th>SibSp</th>\n",
       "      <th>Parch</th>\n",
       "      <th>Fare</th>\n",
       "    </tr>\n",
       "  </thead>\n",
       "  <tbody>\n",
       "    <tr>\n",
       "      <th>count</th>\n",
       "      <td>891.000000</td>\n",
       "      <td>891.000000</td>\n",
       "      <td>891.000000</td>\n",
       "      <td>714.000000</td>\n",
       "      <td>891.000000</td>\n",
       "      <td>891.000000</td>\n",
       "      <td>891.000000</td>\n",
       "    </tr>\n",
       "    <tr>\n",
       "      <th>mean</th>\n",
       "      <td>446.000000</td>\n",
       "      <td>0.383838</td>\n",
       "      <td>2.308642</td>\n",
       "      <td>29.699118</td>\n",
       "      <td>0.523008</td>\n",
       "      <td>0.381594</td>\n",
       "      <td>32.204208</td>\n",
       "    </tr>\n",
       "    <tr>\n",
       "      <th>std</th>\n",
       "      <td>257.353842</td>\n",
       "      <td>0.486592</td>\n",
       "      <td>0.836071</td>\n",
       "      <td>14.526497</td>\n",
       "      <td>1.102743</td>\n",
       "      <td>0.806057</td>\n",
       "      <td>49.693429</td>\n",
       "    </tr>\n",
       "    <tr>\n",
       "      <th>min</th>\n",
       "      <td>1.000000</td>\n",
       "      <td>0.000000</td>\n",
       "      <td>1.000000</td>\n",
       "      <td>0.420000</td>\n",
       "      <td>0.000000</td>\n",
       "      <td>0.000000</td>\n",
       "      <td>0.000000</td>\n",
       "    </tr>\n",
       "    <tr>\n",
       "      <th>25%</th>\n",
       "      <td>223.500000</td>\n",
       "      <td>0.000000</td>\n",
       "      <td>2.000000</td>\n",
       "      <td>20.125000</td>\n",
       "      <td>0.000000</td>\n",
       "      <td>0.000000</td>\n",
       "      <td>7.910400</td>\n",
       "    </tr>\n",
       "    <tr>\n",
       "      <th>50%</th>\n",
       "      <td>446.000000</td>\n",
       "      <td>0.000000</td>\n",
       "      <td>3.000000</td>\n",
       "      <td>28.000000</td>\n",
       "      <td>0.000000</td>\n",
       "      <td>0.000000</td>\n",
       "      <td>14.454200</td>\n",
       "    </tr>\n",
       "    <tr>\n",
       "      <th>75%</th>\n",
       "      <td>668.500000</td>\n",
       "      <td>1.000000</td>\n",
       "      <td>3.000000</td>\n",
       "      <td>38.000000</td>\n",
       "      <td>1.000000</td>\n",
       "      <td>0.000000</td>\n",
       "      <td>31.000000</td>\n",
       "    </tr>\n",
       "    <tr>\n",
       "      <th>max</th>\n",
       "      <td>891.000000</td>\n",
       "      <td>1.000000</td>\n",
       "      <td>3.000000</td>\n",
       "      <td>80.000000</td>\n",
       "      <td>8.000000</td>\n",
       "      <td>6.000000</td>\n",
       "      <td>512.329200</td>\n",
       "    </tr>\n",
       "  </tbody>\n",
       "</table>\n",
       "</div>"
      ],
      "text/plain": [
       "       PassengerId    Survived      Pclass         Age       SibSp  \\\n",
       "count   891.000000  891.000000  891.000000  714.000000  891.000000   \n",
       "mean    446.000000    0.383838    2.308642   29.699118    0.523008   \n",
       "std     257.353842    0.486592    0.836071   14.526497    1.102743   \n",
       "min       1.000000    0.000000    1.000000    0.420000    0.000000   \n",
       "25%     223.500000    0.000000    2.000000   20.125000    0.000000   \n",
       "50%     446.000000    0.000000    3.000000   28.000000    0.000000   \n",
       "75%     668.500000    1.000000    3.000000   38.000000    1.000000   \n",
       "max     891.000000    1.000000    3.000000   80.000000    8.000000   \n",
       "\n",
       "            Parch        Fare  \n",
       "count  891.000000  891.000000  \n",
       "mean     0.381594   32.204208  \n",
       "std      0.806057   49.693429  \n",
       "min      0.000000    0.000000  \n",
       "25%      0.000000    7.910400  \n",
       "50%      0.000000   14.454200  \n",
       "75%      0.000000   31.000000  \n",
       "max      6.000000  512.329200  "
      ]
     },
     "execution_count": 195,
     "metadata": {},
     "output_type": "execute_result"
    }
   ],
   "source": [
    "df.describe()"
   ]
  },
  {
   "cell_type": "code",
   "execution_count": 196,
   "id": "b039252d",
   "metadata": {},
   "outputs": [
    {
     "data": {
      "text/plain": [
       "Index(['PassengerId', 'Survived', 'Pclass', 'Name', 'Sex', 'Age', 'SibSp',\n",
       "       'Parch', 'Ticket', 'Fare', 'Cabin', 'Embarked'],\n",
       "      dtype='object')"
      ]
     },
     "execution_count": 196,
     "metadata": {},
     "output_type": "execute_result"
    }
   ],
   "source": [
    "df.columns"
   ]
  },
  {
   "cell_type": "code",
   "execution_count": 197,
   "id": "ce78c9fe",
   "metadata": {},
   "outputs": [],
   "source": [
    "#saving some variables\n",
    "total_passengers = df['PassengerId'].count()\n",
    "survived_or_not = df.value_counts(['Survived'])\n",
    "survived = survived_or_not[1]\n",
    "died = survived_or_not[0]\n",
    "survival_rate = ((survived/total_passengers) * 100).round(1)\n",
    "death_rate = ((died/total_passengers) * 100).round(1) # rounding for ease of reading, do't do calculations though!"
   ]
  },
  {
   "cell_type": "markdown",
   "id": "2fd0a727",
   "metadata": {},
   "source": [
    "## #1. What is the likelihood of survival in general? "
   ]
  },
  {
   "cell_type": "code",
   "execution_count": 198,
   "id": "6910a629",
   "metadata": {},
   "outputs": [
    {
     "name": "stdout",
     "output_type": "stream",
     "text": [
      "The overall survival rate was 38.4 %\n",
      "The overall death rate was 61.6 %\n"
     ]
    }
   ],
   "source": [
    "print(f'The overall survival rate was {survival_rate} %')\n",
    "print(f'The overall death rate was {death_rate} %')"
   ]
  },
  {
   "cell_type": "markdown",
   "id": "52923527",
   "metadata": {},
   "source": [
    "## #2. What is the relationship between sex and survival rate? "
   ]
  },
  {
   "cell_type": "markdown",
   "id": "b82a8028",
   "metadata": {},
   "source": [
    "We already know that women were more likely to survive than men, but at what rate? "
   ]
  },
  {
   "cell_type": "code",
   "execution_count": 199,
   "id": "287a5084",
   "metadata": {},
   "outputs": [
    {
     "data": {
      "text/plain": [
       "Sex     Survived\n",
       "female  1           0.742038\n",
       "        0           0.257962\n",
       "male    0           0.811092\n",
       "        1           0.188908\n",
       "Name: Survived, dtype: float64"
      ]
     },
     "execution_count": 199,
     "metadata": {},
     "output_type": "execute_result"
    }
   ],
   "source": [
    "groupby_sex = df.groupby(['Sex'])\n",
    "#rough overview of the data so we can see how it should look\n",
    "# normalise = True so we get percentages so it's easier to see if anything looks totally wrong\n",
    "mfsurvival_rates = groupby_sex['Survived'].value_counts(normalize = True)\n",
    "mfsurvival_rates"
   ]
  },
  {
   "cell_type": "code",
   "execution_count": 200,
   "id": "20a80d19",
   "metadata": {},
   "outputs": [
    {
     "data": {
      "text/plain": [
       "Text(0, 0.5, 'Survived')"
      ]
     },
     "execution_count": 200,
     "metadata": {},
     "output_type": "execute_result"
    },
    {
     "data": {
      "image/png": "[encoded data removed]",
      "text/plain": [
       "<Figure size 640x480 with 1 Axes>"
      ]
     },
     "metadata": {},
     "output_type": "display_data"
    }
   ],
   "source": [
    "sns.countplot(data=df, x='Sex', hue='Survived')\n",
    "\n",
    "# Set plot title and labels\n",
    "plt.title('Survival Status by Sex')\n",
    "plt.xlabel('Sex')\n",
    "plt.ylabel('Survived')"
   ]
  },
  {
   "cell_type": "markdown",
   "id": "354cc009",
   "metadata": {},
   "source": [
    "## #3. How does passenger class correlate with survival rate? "
   ]
  },
  {
   "cell_type": "markdown",
   "id": "027ce833",
   "metadata": {},
   "source": [
    "Think we can assume that first class folks are likely to do best, as is usually the way of the world. But by how much? "
   ]
  },
  {
   "cell_type": "code",
   "execution_count": 201,
   "id": "a012e4ab",
   "metadata": {},
   "outputs": [
    {
     "data": {
      "text/plain": [
       "<AxesSubplot:xlabel='Sex', ylabel='Survived'>"
      ]
     },
     "execution_count": 201,
     "metadata": {},
     "output_type": "execute_result"
    },
    {
     "data": {
      "image/png": "[encoded data removed]",
      "text/plain": [
       "<Figure size 640x480 with 1 Axes>"
      ]
     },
     "metadata": {},
     "output_type": "display_data"
    }
   ],
   "source": [
    "sns.barplot(data = df, x=\"Sex\", y=\"Survived\", hue =\"Pclass\")"
   ]
  },
  {
   "cell_type": "markdown",
   "id": "2bc0a330",
   "metadata": {},
   "source": [
    "I actually didn't expect it to be the case that even 3rd class women were better off than first class men in terms of survival rate. "
   ]
  },
  {
   "cell_type": "markdown",
   "id": "7ff875a0",
   "metadata": {},
   "source": [
    "## 4. Any correlation between age and survival rate?"
   ]
  },
  {
   "cell_type": "code",
   "execution_count": 202,
   "id": "87de6901",
   "metadata": {},
   "outputs": [
    {
     "name": "stdout",
     "output_type": "stream",
     "text": [
      "80.0\n",
      "0.42\n"
     ]
    }
   ],
   "source": [
    "#Just out of interest- who is the oldest and youngest survivor? \n",
    "passengers_survived = df[df['Survived'] == 1]\n",
    "oldest_age = passengers_survived['Age'].max()\n",
    "print(oldest_age)\n",
    "youngest_age = passengers_survived['Age'].min()\n",
    "print(youngest_age)\n"
   ]
  },
  {
   "cell_type": "code",
   "execution_count": 203,
   "id": "8abbeef9",
   "metadata": {},
   "outputs": [
    {
     "name": "stdout",
     "output_type": "stream",
     "text": [
      "The oldest survivor was called Barkworth, Mr. Algernon Henry Wilson and they were 80.0.\n",
      "The youngest survivor was called Thomas, Master. Assad Alexander and they were 0.42.\n"
     ]
    }
   ],
   "source": [
    "oldest_row = df.loc[df['Age'].idxmax()]\n",
    "youngest_row = df.loc[df['Age'].idxmin()]\n",
    "oldest_survivor = (oldest_row['Name'])\n",
    "youngest_survivor = (youngest_row['Name'])\n",
    "\n",
    "print(f'The oldest survivor was called {oldest_survivor} and they were {oldest_age}.')\n",
    "print(f'The youngest survivor was called {youngest_survivor} and they were {youngest_age}.')"
   ]
  },
  {
   "cell_type": "markdown",
   "id": "357da87e",
   "metadata": {},
   "source": [
    "## 5. Any correlation between where a passenger embarks and survival rate?"
   ]
  },
  {
   "cell_type": "code",
   "execution_count": 204,
   "id": "f811701f",
   "metadata": {},
   "outputs": [
    {
     "data": {
      "text/plain": [
       "Embarked\n",
       "S           644\n",
       "C           168\n",
       "Q            77\n",
       "dtype: int64"
      ]
     },
     "execution_count": 204,
     "metadata": {},
     "output_type": "execute_result"
    }
   ],
   "source": [
    "df.value_counts(['Embarked'])\n",
    "\n",
    "#S = Southampton\n",
    "#C = Some place in France\n",
    "#Q = Cobh (In Ireland) after they ditched the shitty colonial name - it was called Queenstown at the time"
   ]
  },
  {
   "cell_type": "markdown",
   "id": "3f737f03",
   "metadata": {},
   "source": [
    "Following graph is the survival rates based on only where folks embarked, disregarding all other factors. "
   ]
  },
  {
   "cell_type": "code",
   "execution_count": 205,
   "id": "3ed268a3",
   "metadata": {},
   "outputs": [
    {
     "data": {
      "text/plain": [
       "<AxesSubplot:xlabel='PassengerId', ylabel='Embarked'>"
      ]
     },
     "execution_count": 205,
     "metadata": {},
     "output_type": "execute_result"
    },
    {
     "data": {
      "image/png": "[encoded data removed]",
      "text/plain": [
       "<Figure size 640x480 with 1 Axes>"
      ]
     },
     "metadata": {},
     "output_type": "display_data"
    }
   ],
   "source": [
    "sns.barplot(data = df, x=\"PassengerId\", y=\"Embarked\", hue =\"Survived\")"
   ]
  },
  {
   "cell_type": "markdown",
   "id": "452e9c3e",
   "metadata": {},
   "source": [
    "It seems to indicate that getting on in Cobh gave you a statistically rather low chance of survival.\n",
    "\n",
    "Let's take sex into account and see what difference it makes"
   ]
  },
  {
   "cell_type": "code",
   "execution_count": 206,
   "id": "85716e7c",
   "metadata": {},
   "outputs": [
    {
     "data": {
      "text/plain": [
       "<AxesSubplot:xlabel='Sex', ylabel='Survived'>"
      ]
     },
     "execution_count": 206,
     "metadata": {},
     "output_type": "execute_result"
    },
    {
     "data": {
      "image/png": "[encoded data removed]",
      "text/plain": [
       "<Figure size 640x480 with 1 Axes>"
      ]
     },
     "metadata": {},
     "output_type": "display_data"
    }
   ],
   "source": [
    "sns.barplot(data = df, x=\"Sex\", y=\"Survived\", hue =\"Embarked\")"
   ]
  },
  {
   "cell_type": "markdown",
   "id": "3252a444",
   "metadata": {},
   "source": [
    "Fellas that embarked in Ireland were significantly less likely to survive than a woman who embarked in France - they have statistically the largest chance of survival.\n",
    "\n",
    "Out of interest, what is the sex breakdown of embarkation? Did a lot more men embark in Ireland? \n"
   ]
  },
  {
   "cell_type": "code",
   "execution_count": 207,
   "id": "b86017f6",
   "metadata": {},
   "outputs": [
    {
     "data": {
      "text/plain": [
       "<AxesSubplot:xlabel='Embarked', ylabel='count'>"
      ]
     },
     "execution_count": 207,
     "metadata": {},
     "output_type": "execute_result"
    },
    {
     "data": {
      "image/png": "[encoded data removed]",
      "text/plain": [
       "<Figure size 640x480 with 1 Axes>"
      ]
     },
     "metadata": {},
     "output_type": "display_data"
    }
   ],
   "source": [
    "sns.countplot(data = df, x=\"Embarked\", hue = 'Sex')"
   ]
  },
  {
   "cell_type": "markdown",
   "id": "a25ba3e4",
   "metadata": {},
   "source": [
    "Damn, that's craxy. The difference between men and women embarking in Cobh is negligible, but the death rate is staggeringly different. Bad day to be an Irish fella. \n",
    "What proportion of those men that embarked at Cobh survived?"
   ]
  },
  {
   "cell_type": "code",
   "execution_count": 208,
   "id": "6ebc2d33",
   "metadata": {},
   "outputs": [
    {
     "data": {
      "text/plain": [
       "Embarked  Sex     Survived\n",
       "C         female  1           0.876712\n",
       "                  0           0.123288\n",
       "          male    0           0.694737\n",
       "                  1           0.305263\n",
       "Q         female  1           0.750000\n",
       "                  0           0.250000\n",
       "          male    0           0.926829\n",
       "                  1           0.073171\n",
       "S         female  1           0.689655\n",
       "                  0           0.310345\n",
       "          male    0           0.825397\n",
       "                  1           0.174603\n",
       "Name: Survived, dtype: float64"
      ]
     },
     "execution_count": 208,
     "metadata": {},
     "output_type": "execute_result"
    }
   ],
   "source": [
    "mf_groupby_embarked = df.groupby(['Embarked', 'Sex'])\n",
    "cobh_survival_rates = mf_groupby_embarked['Survived'].value_counts(normalize = True)\n",
    "cobh_survival_rates"
   ]
  },
  {
   "cell_type": "markdown",
   "id": "f7ff44cb",
   "metadata": {},
   "source": [
    "So the average survival rate was 38.4%. \n",
    "The survival rate of men embarking in Cobh was roughly only 7%, with over a 92% chance you weren't gonna make it.\n",
    "The highest survival rate was women embarking in France at an 87% survival rate. "
   ]
  }
 ],
 "metadata": {
  "kernelspec": {
   "display_name": "Python 3 (ipykernel)",
   "language": "python",
   "name": "python3"
  },
  "language_info": {
   "codemirror_mode": {
    "name": "ipython",
    "version": 3
   },
   "file_extension": ".py",
   "mimetype": "text/x-python",
   "name": "python",
   "nbconvert_exporter": "python",
   "pygments_lexer": "ipython3",
   "version": "3.9.13"
  }
 },
 "nbformat": 4,
 "nbformat_minor": 5
}
